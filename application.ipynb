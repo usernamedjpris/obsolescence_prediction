{
 "cells": [
  {
   "cell_type": "markdown",
   "metadata": {},
   "source": [
    "# Obsolescence des smartphones\n",
    "\n",
    "---\n",
    "\n",
    "Jérémie GANTET INSA Informatique & Réseaux 😏 <br>\n",
    "21 juillet 2020\n",
    "\n",
    "---"
   ]
  },
  {
   "cell_type": "markdown",
   "metadata": {},
   "source": [
    "### Librairies"
   ]
  },
  {
   "cell_type": "code",
   "execution_count": 6,
   "metadata": {},
   "outputs": [
    {
     "name": "stdout",
     "output_type": "stream",
     "text": [
      "Populating the interactive namespace from numpy and matplotlib\n"
     ]
    },
    {
     "name": "stderr",
     "output_type": "stream",
     "text": [
      "C:\\Users\\Jérémie\\Anaconda3\\lib\\site-packages\\IPython\\core\\magics\\pylab.py:161: UserWarning: pylab import has clobbered these variables: ['diff', 'copy', 'norm']\n",
      "`%matplotlib` prevents importing * from pylab and numpy\n",
      "  \"\\n`%matplotlib` prevents importing * from pylab and numpy\"\n"
     ]
    }
   ],
   "source": [
    "# dates/utils\n",
    "import datetime\n",
    "from datetime import date\n",
    "import pandas as pd\n",
    "import math\n",
    "import copy\n",
    "# scipy\n",
    "import scipy.stats as stat\n",
    "from scipy.stats import norm\n",
    "from scipy.stats import alpha\n",
    "from scipy.stats import lognorm\n",
    "from scipy.stats import exponweib\n",
    "from scipy.optimize import minimize\n",
    "from scipy.stats import weibull_min\n",
    "from scipy.stats import triang\n",
    "from scipy.stats import tvar\n",
    "from scipy.stats import tstd\n",
    "# sklearn\n",
    "from sklearn import dummy\n",
    "from sklearn import neighbors\n",
    "from sklearn import metrics\n",
    "from sklearn.preprocessing import StandardScaler\n",
    "# beautiful print/plot\n",
    "from sty import fg, bg, ef, rs\n",
    "import seaborn as sns\n",
    "%pylab inline\n",
    "sns.set()\n",
    "pd.options.mode.chained_assignment = None \n",
    "# jupyter GUI\n",
    "import ipywidgets as widgets\n",
    "from ipywidgets import Layout\n",
    "from IPython.display import clear_output\n",
    "from IPython.display import display\n",
    "%config InlineBackend.close_figures=False "
   ]
  },
  {
   "cell_type": "markdown",
   "metadata": {},
   "source": [
    "### Importation des fichiers par marque de smartphone\n",
    "- dates de début commercialisation \n",
    "- nombres de ventes par trimestre"
   ]
  },
  {
   "cell_type": "code",
   "execution_count": 2,
   "metadata": {},
   "outputs": [],
   "source": [
    "dates = pd.read_csv('E:/eDocuments/obso/dates.csv', sep=';')\n",
    "ventes = pd.read_csv('E:/eDocuments/obso/vente_tout_constructeurs.csv', sep=';')\n",
    "medianes = dates.groupby([\"marque\"]).median()\n",
    "diff = dates[\"différence\"]\n",
    "\n",
    "# remplissage median des différences allons-y franchement quoi\n",
    "for i,diff in enumerate(dates[\"différence\"]):\n",
    "    if diff != diff: # NaN test\n",
    "        dates[\"différence\"][i] = medianes[\"différence\"][dates[\"marque\"][i]]\n",
    "\n",
    "# formatage des données    \n",
    "for i,debut in enumerate(dates[\"date\"]):\n",
    "    if not(isinstance(debut, datetime.date)): \n",
    "        if debut != debut:\n",
    "            continue\n",
    "        if debut.find(\"/\")<0:\n",
    "            continue\n",
    "        dates[\"date\"][i] = datetime.date(int(debut.split(\"/\")[2]),int(debut.split(\"/\")[1]),int(debut.split(\"/\")[0]))\n",
    "    if dates[\"date_fin\"][i] != dates[\"date_fin\"][i]: # NaN test\n",
    "        #dates[\"date_fin\"][i] = dates[\"date\"][i] + datetime.date(int(medianes[\"différence\"][dates[\"marque\"][i]]//12),int(medianes[\"différence\"][dates[\"marque\"][i]]%12+1),int((medianes[\"différence\"][dates[\"marque\"][i]]%int(medianes[\"différence\"][dates[\"marque\"][i]]))*60+1))\n",
    "        dates[\"date_fin\"][i] = dates[\"date\"][i] + datetime.timedelta(days=medianes[\"différence\"][dates[\"marque\"][i]]*30)\n",
    "    if not(isinstance(dates[\"date_fin\"][i], datetime.date)):\n",
    "        if dates[\"date_fin\"][i].find(\"/\")<0:\n",
    "            continue\n",
    "        dates[\"date_fin\"][i] = datetime.date(int(dates[\"date_fin\"][i].split(\"/\")[2]),int(dates[\"date_fin\"][i].split(\"/\")[1]),int(dates[\"date_fin\"][i].split(\"/\")[0]))\n",
    "\n",
    "# catégorisation par marque des dates de début, de fin et des noms des modèles\n",
    "touteslesmarques = [\"Apple\", \"Samsung\", \"OnePlus\", \"Xiaomi\", \"Oppo\", \"Vivo\", \"Sony\", \"Huawei\", \"Google\", \"Motorola\"]\n",
    "for marque in touteslesmarques:\n",
    "    globals()[\"debut_\"+marque] = []\n",
    "    globals()[\"fin_\"+marque] = []\n",
    "    globals()[\"modele_\"+marque] = []\n",
    "    for i,d in enumerate(dates[\"date\"]):\n",
    "        if dates[\"marque\"][i] == marque:\n",
    "            globals()[\"debut_\"+marque].append(d)\n",
    "            globals()[\"fin_\"+marque].append(dates[\"date_fin\"][i])\n",
    "            globals()[\"modele_\"+marque].append(dates[\"modèle\"][i])\n",
    "            \n",
    "# axe des x : temps discrétisé en trimestre \n",
    "trimestre = [datetime.date(int(d.split(\"/\")[2]),int(d.split(\"/\")[1]),int(d.split(\"/\")[0])).toordinal() for d in ventes[\"Trimestre\"]]\n",
    "limites = [date.fromordinal(trimestre[0]),date.fromordinal(trimestre[-1])]\n",
    "\n",
    "data = pd.read_csv('E:/eDocuments/obsolescence_prediction/data.csv', sep=';')"
   ]
  },
  {
   "cell_type": "markdown",
   "metadata": {},
   "source": [
    "### Code modèles de distribution"
   ]
  },
  {
   "cell_type": "code",
   "execution_count": 20,
   "metadata": {},
   "outputs": [],
   "source": [
    "ladistribution = 'alpha'\n",
    "nb_sample = 1\n",
    "leseuil = 80 #%\n",
    "ax = plt.gca()\n",
    "# fonction de distribution\n",
    "def distrib(x,debut,scale,var,offset):\n",
    "    \"\"\"modèles de distribution\"\"\"\n",
    "    global ladistribution\n",
    "    if ladistribution == \"alpha\":\n",
    "        return alpha.pdf(x, 0.8, debut-scale/10, scale)*var*scale  \n",
    "    elif ladistribution == \"gauss\":\n",
    "        return stat.norm.pdf(x,debut,scale)*var*scale\n",
    "    elif ladistribution == \"triangle\":\n",
    "        return triang.pdf(x,0,debut,scale)*var*scale \n",
    "    elif ladistribution == \"weibull\":\n",
    "        return weibull_min.pdf(x, 1.1, debut+offset, scale)*var*scale\n",
    "    \n",
    "def distrib_cumulated(x,scale,var):\n",
    "    \"\"\"modèles de distribution cumulées\"\"\"\n",
    "    global ladistribution\n",
    "    if ladistribution == \"alpha\":\n",
    "        return alpha.cdf(x, 0.8, 0, scale) \n",
    "    elif ladistribution == \"gauss\":\n",
    "        return stat.norm.cdf(x,0,scale)\n",
    "    elif ladistribution == \"triangle\":\n",
    "        return triang.cdf(x,0,0,scale)\n",
    "    elif ladistribution == \"weibull\":\n",
    "        return weibull_min.cdf(x, 1.1, 0, scale) \n",
    "    \n",
    "def distrib_quantile(q,scale):\n",
    "    \"\"\"modèles de distribution pour partager en quantile\"\"\"\n",
    "    global ladistribution\n",
    "    if ladistribution == \"alpha\":\n",
    "        return alpha.ppf(q, 0.8, 0, scale)  \n",
    "    elif ladistribution == \"gauss\":\n",
    "        return stat.norm.ppf(q,0,scale)\n",
    "    elif ladistribution == \"triangle\":\n",
    "        return triang.ppf(q,0,0,scale) \n",
    "    elif ladistribution == \"weibull\":\n",
    "        return weibull_min.ppf(q, 1.1, 0, scale)\n",
    "    \n",
    "# fonctions de mises à jour    \n",
    "def update_samples(b):\n",
    "    flatui = [\"#3498db\", \"#9b59b6\", \"#95a5a6\", \"#e74c3c\", \"#34495e\", \"#2ecc71\"]\n",
    "    global nb_sample, leseuil,ax\n",
    "    nb_sample = b['new']\n",
    "    ax.clear()\n",
    "    x = np.arange(-3, 30, 0.05)\n",
    "    for i in range(b['new']):\n",
    "        scale = i+0.2*10\n",
    "        y = distrib(x,0,scale,1,0)\n",
    "        ax.plot(x,y, color=flatui[i%len(flatui)])    \n",
    "        ax.axvline(x=distrib_quantile(leseuil/100,scale),color=flatui[i%len(flatui)])        \n",
    "    ax.set_xlim([-3,30])\n",
    "    ax.set_title(\"allure de la courbe de distribution de ventes d'un modèle de smartphone pour différentes largeurs\")\n",
    "    with out_samples:\n",
    "        clear_output(wait=True)\n",
    "        display(ax.figure)\n",
    "\n",
    "def update_seuil(b):\n",
    "    global leseuil,nb_sample\n",
    "    leseuil = b['new']\n",
    "    update_samples({'new':nb_sample})\n",
    "    \n",
    "def change_distrib(b):\n",
    "    global ladistribution,nb_sample\n",
    "    ladistribution = b['new']\n",
    "    update_samples({'new':nb_sample})\n",
    "    \n",
    "# fonction principale d'affichage \n",
    "def show_samples():\n",
    "    globals()[\"out_samples\"] = widgets.Output(layout=Layout(height='400px', width = '1000px'))\n",
    "    globals()[\"int_range\"] = widgets.IntSlider(value=1, description=\"Aperçus\", max=25)\n",
    "    globals()[\"seuil_range\"] = widgets.IntSlider(value=80, description=\"seuil (%)\", max=99)\n",
    "    globals()[\"d\"] = widgets.Dropdown(options=['alpha', 'weibull', 'triangle', 'gauss']) \n",
    "    global ax\n",
    "    plt.ioff()\n",
    "    fig, ax = subplots(figsize=(11,6))\n",
    "    #ax=plt.gca()\n",
    "    display(d)\n",
    "    display(seuil_range)\n",
    "    display(int_range, out_samples)\n",
    "    seuil_range.observe(update_seuil, names='value')\n",
    "    int_range.observe(update_samples, names='value')\n",
    "    d.observe(change_distrib, names='value')\n",
    "    change_distrib({'new':'alpha'})\n",
    "    update_seuil({'new':80})   \n",
    "    update_samples({'new':1})   \n"
   ]
  },
  {
   "cell_type": "markdown",
   "metadata": {},
   "source": [
    "### Code optimisation"
   ]
  },
  {
   "cell_type": "code",
   "execution_count": 67,
   "metadata": {},
   "outputs": [],
   "source": [
    "lamarque = ['Apple']\n",
    "methode = 'Powell'\n",
    "renverse = False\n",
    "lanorme = \"norme 1\"\n",
    "minX, maxX = 60, 270\n",
    "minY, maxY = 50000,60000000\n",
    "offsetM, offsetP= -60, 180\n",
    "\n",
    "def mini_obj(X, args, ventes_totales, abscisses):\n",
    "    #print(X)\n",
    "    cumul = [0 for i in range(len(abscisses))]\n",
    "    for i in range(int(len(X)/3)):\n",
    "        largeur, hauteur, offset = X[i*3], X[i*3+1], X[i*3+2]\n",
    "        date, ponderation = args[i*2], args[i*2+1]\n",
    "        y=distrib(abscisses, date, largeur, hauteur, offset)\n",
    "        cumul = [cumul[i]+x for i,x in enumerate(y)]    #*ponderation for i,x in enumerate(y)]             \n",
    "    return cumul\n",
    "\n",
    "def montre_solution(X, args, ventes_totales, abscisses, agregat_modeles):\n",
    "    global limites, leseuil\n",
    "    cumul = [0 for i in range(len(abscisses))]\n",
    "    fig, ax = plt.subplots(figsize=(12,6))\n",
    "    for i in range(int(len(X)/3)):\n",
    "        largeur, hauteur, offset = X[i*3], X[i*3+1], X[i*3+2]\n",
    "        date, ponderation = args[i*2], args[i*2+1]\n",
    "        y=distrib(abscisses, date, largeur, hauteur, offset)\n",
    "        cumul = [cumul[i]+x for i,x in enumerate(y)]    #*ponderation for i,x in enumerate(y)]           \n",
    "        ax.plot(abscisses, y, label=agregat_modeles[i]+\"\\nlargeur : \"+str(round(largeur,1))+\" hauteur : \"+str(round(hauteur,1)))    #distrib_quantile(leseuil/100,largeur),1))+\" hauteur : \"+str(round(hauteur,1)))    \n",
    "    ax.plot(abscisses, cumul, 'k', label=\"ventes cumulees\")\n",
    "    ax.plot(abscisses, ventes_totales, 'b', label=\"ventes totales\")\n",
    "    ax.legend(bbox_to_anchor=(1.5, 1))\n",
    "    ax.set_xlim(limites)\n",
    "    plt.show()\n",
    "\n",
    "def objectif(X, args, ventes_totales, abscisses):\n",
    "    global lanorme\n",
    "    ventes_cumulees = mini_obj(X, args, ventes_totales, abscisses)\n",
    "    if lanorme == \"norme 1\":\n",
    "        result = float(abs(sum([abs(x-y) for x,y in zip(ventes_cumulees, ventes_totales)])))\n",
    "    elif lanorme == \"norme 2\":\n",
    "        result = float(np.sqrt(sum([(x-y)**2 for x,y in zip(ventes_cumulees, ventes_totales)])))\n",
    "    #print(result)\n",
    "    return result\n",
    "\n",
    "def obj(X):\n",
    "    global dates, args, trimestre, ventes_totales \n",
    "    return objectif(X, args, [v for v in ventes_totales], [t for t in trimestre])\n",
    "\n",
    "def choose_brand(marque):\n",
    "    global lamarque\n",
    "    if marque == \"Apple\":\n",
    "        lamarque = ['Apple']\n",
    "    elif marque == \"Samsung\":\n",
    "        lamarque = ['Samsung']  \n",
    "    elif marque == \"Xiaomi\":\n",
    "        lamarque = ['Xiaomi'] \n",
    "    elif marque == \"Oppo\":\n",
    "        lamarque = ['Oppo'] \n",
    "    elif marque == \"Vivo\":\n",
    "        lamarque = ['Vivo']\n",
    "    elif marque == \"Sony\":\n",
    "        lamarque = ['Sony']\n",
    "    elif marque == \"Huawei\":\n",
    "        lamarque = ['Huawei']\n",
    "    elif marque == \"Toutes\":\n",
    "        lamarque = [\"Apple\", \"Samsung\", \"Xiaomi\", \"Oppo\", \"Vivo\", \"Sony\", \"Huawei\"]\n",
    "\n",
    "def optimiseur():\n",
    "    globals()['args'] = []\n",
    "    global renverse, methode, lamarque, args, ladistribution, ventes_totales, lanorme, offsetP, offsetM, minX, maxX, minY, maxY\n",
    "    plt.close('all')\n",
    "    for marque in lamarque:\n",
    "        \n",
    "        agregat_modeles = dates.loc[lambda df: dates['marque'] == marque, :].groupby('date').apply(lambda x: ', '.join(x.modèle))\n",
    "        ventes_totales = [0 if v != v else float(v.replace(\",\",\".\"))*1000000  for v in ventes[marque]]\n",
    "        df_args =  dates.loc[lambda df: dates['marque'] == marque, :].groupby('date').count()[\"marque\"]\n",
    "        x1 = []\n",
    "        bnds = ()\n",
    "        for date in df_args.index:        \n",
    "            if isinstance(date, datetime.date):\n",
    "                if not renverse:                    \n",
    "                    args.append(date.toordinal())\n",
    "                    args.append(df_args[date])\n",
    "                    x1 = x1+[60,1000000,0]\n",
    "                else:\n",
    "                    args.append(df_args[date])\n",
    "                    args.append(date.toordinal())\n",
    "                    x1 = x1+[0,1000000,60]                                        \n",
    "                bnds = bnds + ((minX, maxX*1.138591143459572),(minY, maxY),(offsetM,offsetP),)#(500000/df_args[date], 60000000/df_args[date]),)\n",
    "        if renverse:\n",
    "            args = args[::-1]\n",
    "            x1 = x1[::-1]\n",
    "\n",
    "        result = minimize(obj, x1, method = methode, bounds=bnds)\n",
    "        montre_solution(result.x, args, ventes_totales, trimestre, agregat_modeles)\n",
    "        chronooupaschrono = \"chrono\" if not renverse else \"antichrono\"\n",
    "        params = \"[\"+ladistribution+\", \"+methode+\", \"+marque+\", \"+chronooupaschrono+\"]\"\n",
    "        params += \" \"*(37-len(params))+\" X(\"+str(minX)+\", \"+str(maxX)+\")\"+ \" Y(\"+str(minY)+\", \"+str(maxY)+\")\"+ \" Offset(\"+str(offsetM)+\", \"+str(offsetP)+\")\" \n",
    "        objectif = str(int(obj(result.x)))\n",
    "        ligne_resultat = params+\" \"*(87-len(params))+\" écart \"+lanorme+\" \"*(11-len(objectif))+bg.red+fg.white+\" \"+objectif+\" \"+fg.rs+bg.rs\n",
    "        return ligne_resultat\n",
    "        #for i in range(int(len(result.x)/3)):\n",
    "        #    for modele in agregat_modeles[i].split(\", \"):\n",
    "        #        print(modele+\";\"+str(result.x[i*3]).replace(\".\",\",\"))\n",
    "        \n",
    "# fonction principale d'affichage \n",
    "def optimisation():\n",
    "    globals()[\"button1\"] = widgets.Button(description=\"Lancer optimisation\")\n",
    "    globals()[\"out_optimizer\"] = widgets.Output()\n",
    "    globals()[\"out_historique\"] = widgets.Output()    \n",
    "    globals()[\"button2\"] = widgets.Button(description=\"Renverser chrono\")\n",
    "    globals()[\"out_renverse\"] = widgets.Output()\n",
    "    globals()[\"d_methode\"] = widgets.Dropdown(options=['Powell', 'L-BFGS-B', 'TNC', 'SLSQP']) \n",
    "    globals()[\"d_norme\"] = widgets.Dropdown(options=['norme 1', 'norme 2']) \n",
    "    globals()[\"d_brand\"] = widgets.Dropdown(options=[\"Apple\", \"Samsung\", \"Xiaomi\", \"Oppo\", \"Vivo\", \"Sony\", \"Huawei\",'Toutes']) \n",
    "    globals()[\"minX_range\"] = widgets.IntSlider(value=60, description=\"min X (jours)\", min=30 , max=180)\n",
    "    globals()[\"maxX_range\"] = widgets.IntSlider(value=270, description=\"max X (jours)\", min=30 , max=1460)\n",
    "    globals()[\"minY_range\"] = widgets.IntSlider(value=50000, description=\"min Y (ventes)\", min=10000 , max=100000)\n",
    "    globals()[\"maxY_range\"] = widgets.IntSlider(value=60000000, description=\"max Y (ventes)\", min=100000, max=100000000)\n",
    "    globals()[\"offsetM_range\"] = widgets.IntSlider(value=-60, description=\"Offset- (jours)\", min=-270 , max=0)\n",
    "    globals()[\"offsetP_range\"] = widgets.IntSlider(value=180, description=\"Offset+ (jours)\", min=0, max=270)\n",
    "    plt.ioff()\n",
    "    ax=plt.gca()\n",
    "    \n",
    "    display(d_methode)\n",
    "    display(d_brand)\n",
    "    display(d_norme)\n",
    "    display(button2, out_renverse)\n",
    "    display(minX_range,maxX_range,minY_range,maxY_range,offsetM_range,offsetP_range)\n",
    "    display(button1, out_optimizer, out_historique) \n",
    "    \n",
    "    button1.on_click(on_button1_clicked)\n",
    "    button2.on_click(on_button2_clicked)\n",
    "    d_methode.observe(change_method, names='value')\n",
    "    d_brand.observe(change_brand, names='value')\n",
    "    d_norme.observe(change_norme, names='value')\n",
    "    minX_range.observe(change_minX, names='value')\n",
    "    maxX_range.observe(change_maxX, names='value')\n",
    "    minY_range.observe(change_minY, names='value')\n",
    "    maxY_range.observe(change_maxY, names='value')    \n",
    "    offsetM_range.observe(change_offsetM, names='value')\n",
    "    offsetP_range.observe(change_offsetP, names='value') \n",
    "    \n",
    "def on_button1_clicked(b):\n",
    "    with out_optimizer:\n",
    "        clear_output(wait=True) #pour afficher l'historique des graphes commenter cette ligne\n",
    "        string = optimiseur()\n",
    "    with out_historique:\n",
    "        print(string)\n",
    "        \n",
    "def on_button2_clicked(b):\n",
    "    global renverse\n",
    "    renverse = not renverse    \n",
    "    with out_renverse:\n",
    "        clear_output(wait=True)\n",
    "        print(\"les modèles sont dans l'ordre\",(\"ANTI-\" if renverse else \"\")+\"chronologique\")\n",
    "\n",
    "def change_norme(b):\n",
    "    global lanorme \n",
    "    lanorme = b['new']\n",
    "        \n",
    "def change_method(b):\n",
    "    global methode \n",
    "    methode = b['new']\n",
    "    \n",
    "def change_minX(b):\n",
    "    global minX \n",
    "    minX = b['new']\n",
    "def change_maxX(b):\n",
    "    global maxX \n",
    "    maxX = b['new']\n",
    "def change_minY(b):\n",
    "    global minY \n",
    "    minY = b['new']\n",
    "def change_maxY(b):\n",
    "    global maxY \n",
    "    maxY = b['new']\n",
    "def change_offsetM(b):\n",
    "    global offsetM \n",
    "    offsetM = b['new']\n",
    "def change_offsetP(b):\n",
    "    global offsetP \n",
    "    offsetP = b['new']\n",
    "    \n",
    "def change_brand(b):\n",
    "    global brand \n",
    "    choose_brand(b['new'])"
   ]
  },
  {
   "cell_type": "markdown",
   "metadata": {},
   "source": [
    "# Cliquodrome "
   ]
  },
  {
   "cell_type": "markdown",
   "metadata": {},
   "source": [
    "## Modélisation\n",
    "de la courbe des ventes d'un modèle de smartphone"
   ]
  },
  {
   "cell_type": "code",
   "execution_count": 21,
   "metadata": {},
   "outputs": [
    {
     "data": {
      "application/vnd.jupyter.widget-view+json": {
       "model_id": "3f5d1900f0c14fc4a1a1ec7d045caf88"
      }
     },
     "metadata": {},
     "output_type": "display_data"
    },
    {
     "data": {
      "application/vnd.jupyter.widget-view+json": {
       "model_id": "f676f3f7521247e0b7020817cbc3359f"
      }
     },
     "metadata": {},
     "output_type": "display_data"
    },
    {
     "data": {
      "application/vnd.jupyter.widget-view+json": {
       "model_id": "146c15e49ef34dd48d77978d73a9b107"
      }
     },
     "metadata": {},
     "output_type": "display_data"
    },
    {
     "data": {
      "application/vnd.jupyter.widget-view+json": {
       "model_id": "eddd1ebf88ed46219fcf3a6f781f27c8"
      }
     },
     "metadata": {},
     "output_type": "display_data"
    }
   ],
   "source": [
    "show_samples()"
   ]
  },
  {
   "cell_type": "markdown",
   "metadata": {},
   "source": [
    "## Optimisation \n",
    "des paramètres de largeur et de hauteur des modèles de distributions d'un modèle de smartphone <br>\n",
    "Objectif : la somme des courbes doit correspondre trimestre par trimestre au nombre de ventes totales de smartphones vendus par la marque\n"
   ]
  },
  {
   "cell_type": "code",
   "execution_count": 68,
   "metadata": {},
   "outputs": [
    {
     "data": {
      "application/vnd.jupyter.widget-view+json": {
       "model_id": "64b99fd7b94d4edd9795f714f0c4304d"
      }
     },
     "metadata": {},
     "output_type": "display_data"
    },
    {
     "data": {
      "application/vnd.jupyter.widget-view+json": {
       "model_id": "bd17d5369d504ea1932feca63c1ab80b"
      }
     },
     "metadata": {},
     "output_type": "display_data"
    },
    {
     "data": {
      "application/vnd.jupyter.widget-view+json": {
       "model_id": "ac5222781fb24cbe8a57b7f450bac06d"
      }
     },
     "metadata": {},
     "output_type": "display_data"
    },
    {
     "data": {
      "application/vnd.jupyter.widget-view+json": {
       "model_id": "a9efff860e6a42418119081b91700cc8"
      }
     },
     "metadata": {},
     "output_type": "display_data"
    },
    {
     "data": {
      "application/vnd.jupyter.widget-view+json": {
       "model_id": "b1bbb6663c2f4813b63e2906a15feda9"
      }
     },
     "metadata": {},
     "output_type": "display_data"
    },
    {
     "data": {
      "application/vnd.jupyter.widget-view+json": {
       "model_id": "e8d8da7de9e849b4a79de589d8368e4d"
      }
     },
     "metadata": {},
     "output_type": "display_data"
    },
    {
     "data": {
      "application/vnd.jupyter.widget-view+json": {
       "model_id": "6c452ca3e35e47d098f74f9804f49cf9"
      }
     },
     "metadata": {},
     "output_type": "display_data"
    },
    {
     "data": {
      "application/vnd.jupyter.widget-view+json": {
       "model_id": "bf17997d348944c2b571e96fd3383a11"
      }
     },
     "metadata": {},
     "output_type": "display_data"
    },
    {
     "data": {
      "application/vnd.jupyter.widget-view+json": {
       "model_id": "edd8e9e7cbaa4d1cbd02537301c23e05"
      }
     },
     "metadata": {},
     "output_type": "display_data"
    },
    {
     "data": {
      "application/vnd.jupyter.widget-view+json": {
       "model_id": "9319d789e7cf4f3db7b22938e90c9022"
      }
     },
     "metadata": {},
     "output_type": "display_data"
    },
    {
     "data": {
      "application/vnd.jupyter.widget-view+json": {
       "model_id": "ec036d4138be47169bdd18ee4a464749"
      }
     },
     "metadata": {},
     "output_type": "display_data"
    },
    {
     "data": {
      "application/vnd.jupyter.widget-view+json": {
       "model_id": "340b7adeee264546879a079fb6f4e4ee"
      }
     },
     "metadata": {},
     "output_type": "display_data"
    },
    {
     "data": {
      "application/vnd.jupyter.widget-view+json": {
       "model_id": "ff094ce2ef17499ca5b2fb5b5c3a3672"
      }
     },
     "metadata": {},
     "output_type": "display_data"
    },
    {
     "data": {
      "application/vnd.jupyter.widget-view+json": {
       "model_id": "5a38d6e03f864db9976fbd7038c0672f"
      }
     },
     "metadata": {},
     "output_type": "display_data"
    }
   ],
   "source": [
    "optimisation()"
   ]
  },
  {
   "cell_type": "code",
   "execution_count": null,
   "metadata": {
    "collapsed": true
   },
   "outputs": [],
   "source": []
  }
 ],
 "metadata": {
  "kernelspec": {
   "display_name": "Python 3",
   "language": "python",
   "name": "python3"
  },
  "language_info": {
   "codemirror_mode": {
    "name": "ipython",
    "version": 3
   },
   "file_extension": ".py",
   "mimetype": "text/x-python",
   "name": "python",
   "nbconvert_exporter": "python",
   "pygments_lexer": "ipython3",
   "version": "3.6.1"
  }
 },
 "nbformat": 4,
 "nbformat_minor": 2
}
